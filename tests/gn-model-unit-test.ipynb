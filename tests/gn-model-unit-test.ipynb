{
 "cells": [
  {
   "cell_type": "markdown",
   "id": "b64ea81d",
   "metadata": {},
   "source": [
    "## Test GN model equations using Python `PhysicalQuantities` package\n",
    "\n",
    "The Python `PhysicalQuanties` package enables calculations that take\n",
    "physical dimensions into account.\n",
    "\n",
    "This notebook attempts to calculate the GN model's NLI compensation\n",
    "value while keeping track of units.\n",
    "\n",
    "For this example, we use a single wavelength,\n",
    "so we are just looking at self channel interference.\n",
    "\n",
    "Ultimately we want to make sure that the units are correct,\n",
    "and compare the results against mininet-optical.\n",
    "\n",
    "### Imports: math functions and constants; physical quantities"
   ]
  },
  {
   "cell_type": "code",
   "execution_count": 76,
   "id": "d59f8f34",
   "metadata": {},
   "outputs": [],
   "source": [
    "from math import log10, exp, e, pi, asinh\n",
    "from PhysicalQuantities import q\n",
    "# Use q.{unit} to disambiguate if necessary\n",
    "locals().update({f:getattr(q,f) for f in dir(q)})"
   ]
  },
  {
   "cell_type": "markdown",
   "id": "cc9b02fb",
   "metadata": {},
   "source": [
    "### Missing units and physical constants"
   ]
  },
  {
   "cell_type": "code",
   "execution_count": 77,
   "id": "e9eb6ec1",
   "metadata": {},
   "outputs": [
    {
     "data": {
      "text/plain": [
       "(0.00022 1/m, 0.00127 1/W/m, 1.6699999999999996e-05 s/m^2)"
      ]
     },
     "execution_count": 77,
     "metadata": {},
     "output_type": "execute_result"
    }
   ],
   "source": [
    "Hz = 1/s\n",
    "GHz = 1e9 * Hz\n",
    "\n",
    "# Scaling hacks since units aren't canceling for some reason\n",
    "nm = 1e-9 * m\n",
    "km = 1e3 * m\n",
    "ps = 1e-12 * s\n",
    "\n",
    "# Physical Constants\n",
    "Planck = h = 6.62607015e-34 * J/Hz\n",
    "C = 299792458.0 * m/s\n",
    "\n",
    "# SMF parameters\n",
    "fiber_attenuation_db = .22/km\n",
    "nonlinear_coefficient = 1.27/(W*km)\n",
    "dispersion = 16.7 * ps/(km*nm)\n",
    "fiber_attenuation_db, nonlinear_coefficient, dispersion"
   ]
  },
  {
   "cell_type": "markdown",
   "id": "889fcd8e",
   "metadata": {},
   "source": [
    "### Test parameters"
   ]
  },
  {
   "cell_type": "code",
   "execution_count": 78,
   "id": "99a2ce7e",
   "metadata": {},
   "outputs": [
    {
     "data": {
      "text/plain": [
       "(0.0010002302850208246 W, 25000.0 m)"
      ]
     },
     "execution_count": 78,
     "metadata": {},
     "output_type": "execute_result"
    }
   ],
   "source": [
    "pwr = (.001 * dBm).W  # convert dBm to Watts\n",
    "length = 25 * km\n",
    "pwr, length"
   ]
  },
  {
   "cell_type": "markdown",
   "id": "2c94073c",
   "metadata": {},
   "source": [
    "### Self channel interference, so same power for channel under test and interfering channel"
   ]
  },
  {
   "cell_type": "code",
   "execution_count": 79,
   "id": "74b514a4",
   "metadata": {},
   "outputs": [
    {
     "data": {
      "text/plain": [
       "(0.0010002302850208246 W, 32000000000.0 1/s)"
      ]
     },
     "execution_count": 79,
     "metadata": {},
     "output_type": "execute_result"
    }
   ],
   "source": [
    "bw = 32 * GHz  # Is this correct?\n",
    "pwr_cut = pwr\n",
    "pwr_ch = pwr_cut\n",
    "bw_cut = bw\n",
    "bw_ch = bw\n",
    "pwr_cut, bw_cut"
   ]
  },
  {
   "cell_type": "code",
   "execution_count": 89,
   "id": "eb6f39b4",
   "metadata": {},
   "outputs": [
    {
     "data": {
      "text/plain": [
       "(14176.984836791155 m, 1.6699999999999996e-05 s/m^2, 0.00127 1/W/m)"
      ]
     },
     "execution_count": 89,
     "metadata": {},
     "output_type": "execute_result"
    }
   ],
   "source": [
    "alpha = fiber_attenuation_db / (20*log10(e))\n",
    "asymptotic_length = 1 / (2*alpha)\n",
    "effective_length = ((1 - exp(-2 * alpha * length)) / \n",
    "                    (2 * alpha))\n",
    "ref_wavelength = 1550 * nm\n",
    "\n",
    "D = dispersion\n",
    "beta2 = ref_wavelength**2 * D / (2 * pi * C)\n",
    "\n",
    "effective_length, D, gamma"
   ]
  },
  {
   "cell_type": "markdown",
   "id": "76248a81",
   "metadata": {},
   "source": [
    "### Constant term from GN-model equation"
   ]
  },
  {
   "cell_type": "code",
   "execution_count": 91,
   "id": "ba8ad32e",
   "metadata": {},
   "outputs": [
    {
     "data": {
      "text/latex": [
       "7.271275754823355e+22 $\\frac{1}{\\text{W}^2\\cdot \\text{s}^2}$"
      ],
      "text/markdown": [
       "7.271275754823355e+22 $\\frac{1}{\\text{W}^2\\cdot \\text{s}^2}$"
      ],
      "text/plain": [
       "7.271275754823355e+22 1/W^2/s^2"
      ]
     },
     "execution_count": 91,
     "metadata": {},
     "output_type": "execute_result"
    }
   ],
   "source": [
    "gamma = nonlinear_coefficient\n",
    "cterm = ((16/27) * (gamma * effective_length)**2 /\n",
    "         (2*pi * beta2 * asymptotic_length))\n",
    "cterm"
   ]
  },
  {
   "cell_type": "markdown",
   "id": "330322b3",
   "metadata": {},
   "source": [
    "###  Self channel interference psi computation\n",
    "This value should be unitless"
   ]
  },
  {
   "cell_type": "code",
   "execution_count": 82,
   "id": "39019403",
   "metadata": {},
   "outputs": [
    {
     "data": {
      "text/plain": [
       "1.4980786903221437"
      ]
     },
     "execution_count": 82,
     "metadata": {},
     "output_type": "execute_result"
    }
   ],
   "source": [
    "psi = asinh(0.5 * pi*pi * asymptotic_length * beta2 * bw_cut*bw_cut)\n",
    "psi"
   ]
  },
  {
   "cell_type": "markdown",
   "id": "6396391e",
   "metadata": {},
   "source": [
    "### g is the flat PSD for the given channel\n",
    "nli is the GN-model's NLI power compensation term, and should be in Watts"
   ]
  },
  {
   "cell_type": "code",
   "execution_count": 87,
   "id": "3cbd5222",
   "metadata": {},
   "outputs": [
    {
     "data": {
      "text/plain": [
       "(3.125719640690077e-14 W*s,\n",
       " 3.125719640690077e-14 W*s,\n",
       " 3.3265595818736133e-18 W*s,\n",
       " 1.0644990661995562e-07 W)"
      ]
     },
     "execution_count": 87,
     "metadata": {},
     "output_type": "execute_result"
    }
   ],
   "source": [
    "g_cut = pwr_cut/bw_cut\n",
    "g_ch = pwr_ch/bw_ch\n",
    "g_nli = cterm * (g_ch*g_ch) * g_cut * psi\n",
    "nli = g_nli*bw_cut\n",
    "g_cut, g_ch, g_nli, nli"
   ]
  },
  {
   "cell_type": "code",
   "execution_count": null,
   "id": "4af0ad16",
   "metadata": {},
   "outputs": [],
   "source": []
  },
  {
   "cell_type": "code",
   "execution_count": null,
   "id": "00339685",
   "metadata": {},
   "outputs": [],
   "source": []
  }
 ],
 "metadata": {
  "kernelspec": {
   "display_name": "Python 3 (ipykernel)",
   "language": "python",
   "name": "python3"
  },
  "language_info": {
   "codemirror_mode": {
    "name": "ipython",
    "version": 3
   },
   "file_extension": ".py",
   "mimetype": "text/x-python",
   "name": "python",
   "nbconvert_exporter": "python",
   "pygments_lexer": "ipython3",
   "version": "3.8.10"
  }
 },
 "nbformat": 4,
 "nbformat_minor": 5
}
